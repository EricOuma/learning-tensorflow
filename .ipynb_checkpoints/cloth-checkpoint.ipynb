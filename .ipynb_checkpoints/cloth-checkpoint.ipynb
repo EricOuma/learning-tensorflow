{
 "cells": [
  {
   "cell_type": "code",
   "execution_count": null,
   "metadata": {},
   "outputs": [],
   "source": [
    "import numpy as np\n",
    "import tensorflow as tf\n",
    "from tensorflow import keras #framework for defining a neural network\n",
    "import matplotlib.pyplot as plt #can be used to check how data looks like\n",
    "\n",
    "# load the dataset\n",
    "mnist =  tf.keras.datasets.fashion_mnist\n",
    "\n",
    "# getting the training values and testing values\n",
    "(training_images, training_labels), (test_images, test_labels) = mnist.load_data()\n",
    "\n",
    "# normalisation - so as to work with values between 0 and 1\n",
    "training_images = training_images/225.0\n",
    "test_images = test_images/255.0\n",
    "\n",
    "plt.imshow(training_images[42])\n",
    "print(training_labels[42])\n",
    "print(training_images[42])"
   ]
  }
 ],
 "metadata": {
  "kernelspec": {
   "display_name": "Python 3",
   "language": "python",
   "name": "python3"
  },
  "language_info": {
   "codemirror_mode": {
    "name": "ipython",
    "version": 3
   },
   "file_extension": ".py",
   "mimetype": "text/x-python",
   "name": "python",
   "nbconvert_exporter": "python",
   "pygments_lexer": "ipython3",
   "version": "3.7.3"
  }
 },
 "nbformat": 4,
 "nbformat_minor": 2
}
