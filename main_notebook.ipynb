{
 "cells": [
  {
   "cell_type": "code",
   "execution_count": 1,
   "metadata": {},
   "outputs": [
    {
     "name": "stderr",
     "output_type": "stream",
     "text": [
      "/home/eric/anaconda3/lib/python3.7/site-packages/tensorflow/python/framework/dtypes.py:516: FutureWarning: Passing (type, 1) or '1type' as a synonym of type is deprecated; in a future version of numpy, it will be understood as (type, (1,)) / '(1,)type'.\n",
      "  _np_qint8 = np.dtype([(\"qint8\", np.int8, 1)])\n",
      "/home/eric/anaconda3/lib/python3.7/site-packages/tensorflow/python/framework/dtypes.py:517: FutureWarning: Passing (type, 1) or '1type' as a synonym of type is deprecated; in a future version of numpy, it will be understood as (type, (1,)) / '(1,)type'.\n",
      "  _np_quint8 = np.dtype([(\"quint8\", np.uint8, 1)])\n",
      "/home/eric/anaconda3/lib/python3.7/site-packages/tensorflow/python/framework/dtypes.py:518: FutureWarning: Passing (type, 1) or '1type' as a synonym of type is deprecated; in a future version of numpy, it will be understood as (type, (1,)) / '(1,)type'.\n",
      "  _np_qint16 = np.dtype([(\"qint16\", np.int16, 1)])\n",
      "/home/eric/anaconda3/lib/python3.7/site-packages/tensorflow/python/framework/dtypes.py:519: FutureWarning: Passing (type, 1) or '1type' as a synonym of type is deprecated; in a future version of numpy, it will be understood as (type, (1,)) / '(1,)type'.\n",
      "  _np_quint16 = np.dtype([(\"quint16\", np.uint16, 1)])\n",
      "/home/eric/anaconda3/lib/python3.7/site-packages/tensorflow/python/framework/dtypes.py:520: FutureWarning: Passing (type, 1) or '1type' as a synonym of type is deprecated; in a future version of numpy, it will be understood as (type, (1,)) / '(1,)type'.\n",
      "  _np_qint32 = np.dtype([(\"qint32\", np.int32, 1)])\n",
      "/home/eric/anaconda3/lib/python3.7/site-packages/tensorflow/python/framework/dtypes.py:525: FutureWarning: Passing (type, 1) or '1type' as a synonym of type is deprecated; in a future version of numpy, it will be understood as (type, (1,)) / '(1,)type'.\n",
      "  np_resource = np.dtype([(\"resource\", np.ubyte, 1)])\n",
      "/home/eric/anaconda3/lib/python3.7/site-packages/tensorboard/compat/tensorflow_stub/dtypes.py:541: FutureWarning: Passing (type, 1) or '1type' as a synonym of type is deprecated; in a future version of numpy, it will be understood as (type, (1,)) / '(1,)type'.\n",
      "  _np_qint8 = np.dtype([(\"qint8\", np.int8, 1)])\n",
      "/home/eric/anaconda3/lib/python3.7/site-packages/tensorboard/compat/tensorflow_stub/dtypes.py:542: FutureWarning: Passing (type, 1) or '1type' as a synonym of type is deprecated; in a future version of numpy, it will be understood as (type, (1,)) / '(1,)type'.\n",
      "  _np_quint8 = np.dtype([(\"quint8\", np.uint8, 1)])\n",
      "/home/eric/anaconda3/lib/python3.7/site-packages/tensorboard/compat/tensorflow_stub/dtypes.py:543: FutureWarning: Passing (type, 1) or '1type' as a synonym of type is deprecated; in a future version of numpy, it will be understood as (type, (1,)) / '(1,)type'.\n",
      "  _np_qint16 = np.dtype([(\"qint16\", np.int16, 1)])\n",
      "/home/eric/anaconda3/lib/python3.7/site-packages/tensorboard/compat/tensorflow_stub/dtypes.py:544: FutureWarning: Passing (type, 1) or '1type' as a synonym of type is deprecated; in a future version of numpy, it will be understood as (type, (1,)) / '(1,)type'.\n",
      "  _np_quint16 = np.dtype([(\"quint16\", np.uint16, 1)])\n",
      "/home/eric/anaconda3/lib/python3.7/site-packages/tensorboard/compat/tensorflow_stub/dtypes.py:545: FutureWarning: Passing (type, 1) or '1type' as a synonym of type is deprecated; in a future version of numpy, it will be understood as (type, (1,)) / '(1,)type'.\n",
      "  _np_qint32 = np.dtype([(\"qint32\", np.int32, 1)])\n",
      "/home/eric/anaconda3/lib/python3.7/site-packages/tensorboard/compat/tensorflow_stub/dtypes.py:550: FutureWarning: Passing (type, 1) or '1type' as a synonym of type is deprecated; in a future version of numpy, it will be understood as (type, (1,)) / '(1,)type'.\n",
      "  np_resource = np.dtype([(\"resource\", np.ubyte, 1)])\n"
     ]
    },
    {
     "name": "stdout",
     "output_type": "stream",
     "text": [
      "WARNING:tensorflow:From /home/eric/anaconda3/lib/python3.7/site-packages/tensorflow/python/ops/init_ops.py:1251: calling VarianceScaling.__init__ (from tensorflow.python.ops.init_ops) with dtype is deprecated and will be removed in a future version.\n",
      "Instructions for updating:\n",
      "Call initializer instance with the dtype argument instead of passing it to the constructor\n",
      "Epoch 1/50\n",
      "6/6 [==============================] - 2s 252ms/sample - loss: 92.3906\n",
      "Epoch 2/50\n",
      "6/6 [==============================] - 0s 647us/sample - loss: 72.6948\n",
      "Epoch 3/50\n",
      "6/6 [==============================] - 0s 2ms/sample - loss: 57.1990\n",
      "Epoch 4/50\n",
      "6/6 [==============================] - 0s 700us/sample - loss: 45.0076\n",
      "Epoch 5/50\n",
      "6/6 [==============================] - 0s 823us/sample - loss: 35.4158\n",
      "Epoch 6/50\n",
      "6/6 [==============================] - 0s 2ms/sample - loss: 27.8693\n",
      "Epoch 7/50\n",
      "6/6 [==============================] - 0s 1ms/sample - loss: 21.9320\n",
      "Epoch 8/50\n",
      "6/6 [==============================] - 0s 2ms/sample - loss: 17.2607\n",
      "Epoch 9/50\n",
      "6/6 [==============================] - 0s 2ms/sample - loss: 13.5854\n",
      "Epoch 10/50\n",
      "6/6 [==============================] - 0s 1ms/sample - loss: 10.6937\n",
      "Epoch 11/50\n",
      "6/6 [==============================] - 0s 1ms/sample - loss: 8.4186\n",
      "Epoch 12/50\n",
      "6/6 [==============================] - 0s 2ms/sample - loss: 6.6285\n",
      "Epoch 13/50\n",
      "6/6 [==============================] - 0s 1ms/sample - loss: 5.2201\n",
      "Epoch 14/50\n",
      "6/6 [==============================] - 0s 2ms/sample - loss: 4.1119\n",
      "Epoch 15/50\n",
      "6/6 [==============================] - 0s 1ms/sample - loss: 3.2399\n",
      "Epoch 16/50\n",
      "6/6 [==============================] - 0s 3ms/sample - loss: 2.5538\n",
      "Epoch 17/50\n",
      "6/6 [==============================] - 0s 2ms/sample - loss: 2.0139\n",
      "Epoch 18/50\n",
      "6/6 [==============================] - 0s 3ms/sample - loss: 1.5890\n",
      "Epoch 19/50\n",
      "6/6 [==============================] - 0s 592us/sample - loss: 1.2546\n",
      "Epoch 20/50\n",
      "6/6 [==============================] - 0s 1ms/sample - loss: 0.9915\n",
      "Epoch 21/50\n",
      "6/6 [==============================] - 0s 2ms/sample - loss: 0.7843\n",
      "Epoch 22/50\n",
      "6/6 [==============================] - 0s 636us/sample - loss: 0.6213\n",
      "Epoch 23/50\n",
      "6/6 [==============================] - 0s 2ms/sample - loss: 0.4929\n",
      "Epoch 24/50\n",
      "6/6 [==============================] - 0s 603us/sample - loss: 0.3919\n",
      "Epoch 25/50\n",
      "6/6 [==============================] - 0s 622us/sample - loss: 0.3123\n",
      "Epoch 26/50\n",
      "6/6 [==============================] - 0s 1ms/sample - loss: 0.2495\n",
      "Epoch 27/50\n",
      "6/6 [==============================] - 0s 2ms/sample - loss: 0.2001\n",
      "Epoch 28/50\n",
      "6/6 [==============================] - 0s 614us/sample - loss: 0.1612\n",
      "Epoch 29/50\n",
      "6/6 [==============================] - 0s 608us/sample - loss: 0.1304\n",
      "Epoch 30/50\n",
      "6/6 [==============================] - 0s 599us/sample - loss: 0.1062\n",
      "Epoch 31/50\n",
      "6/6 [==============================] - 0s 606us/sample - loss: 0.0870\n",
      "Epoch 32/50\n",
      "6/6 [==============================] - 0s 2ms/sample - loss: 0.0719\n",
      "Epoch 33/50\n",
      "6/6 [==============================] - 0s 732us/sample - loss: 0.0599\n",
      "Epoch 34/50\n",
      "6/6 [==============================] - 0s 720us/sample - loss: 0.0504\n",
      "Epoch 35/50\n",
      "6/6 [==============================] - 0s 718us/sample - loss: 0.0429\n",
      "Epoch 36/50\n",
      "6/6 [==============================] - 0s 724us/sample - loss: 0.0369\n",
      "Epoch 37/50\n",
      "6/6 [==============================] - 0s 1ms/sample - loss: 0.0321\n",
      "Epoch 38/50\n",
      "6/6 [==============================] - 0s 1ms/sample - loss: 0.0283\n",
      "Epoch 39/50\n",
      "6/6 [==============================] - 0s 1ms/sample - loss: 0.0252\n",
      "Epoch 40/50\n",
      "6/6 [==============================] - 0s 622us/sample - loss: 0.0227\n",
      "Epoch 41/50\n",
      "6/6 [==============================] - 0s 837us/sample - loss: 0.0207\n",
      "Epoch 42/50\n",
      "6/6 [==============================] - 0s 643us/sample - loss: 0.0191\n",
      "Epoch 43/50\n",
      "6/6 [==============================] - 0s 612us/sample - loss: 0.0177\n",
      "Epoch 44/50\n",
      "6/6 [==============================] - 0s 982us/sample - loss: 0.0166\n",
      "Epoch 45/50\n",
      "6/6 [==============================] - 0s 2ms/sample - loss: 0.0157\n",
      "Epoch 46/50\n",
      "6/6 [==============================] - 0s 2ms/sample - loss: 0.0149\n",
      "Epoch 47/50\n",
      "6/6 [==============================] - 0s 652us/sample - loss: 0.0142\n",
      "Epoch 48/50\n",
      "6/6 [==============================] - 0s 1ms/sample - loss: 0.0137\n",
      "Epoch 49/50\n",
      "6/6 [==============================] - 0s 1ms/sample - loss: 0.0132\n",
      "Epoch 50/50\n",
      "6/6 [==============================] - 0s 1ms/sample - loss: 0.0127\n"
     ]
    },
    {
     "data": {
      "text/plain": [
       "<tensorflow.python.keras.callbacks.History at 0x7f12ddccceb8>"
      ]
     },
     "execution_count": 1,
     "metadata": {},
     "output_type": "execute_result"
    }
   ],
   "source": [
    "import numpy as np\n",
    "import tensorflow as tf\n",
    "from tensorflow import keras #framework for defining a neural network\n",
    "\n",
    "model = tf.keras.Sequential([keras.layers.Dense(units=1, input_shape=[1])])\n",
    "\n",
    "# compiling the model\n",
    "model.compile(optimizer='sgd', loss='mean_squared_error')\n",
    "\n",
    "# providing the data\n",
    "xs = np.array([-1.0, 0.0, 1.0, 2.0, 3.0, 4.0], dtype=float)\n",
    "ys = np.array([-2.0, 1.0, 4.0, 7.0, 10.0, 13.0], dtype=float)\n",
    "\n",
    "# training the neural network\n",
    "model.fit(xs, ys, epochs=50)"
   ]
  },
  {
   "cell_type": "code",
   "execution_count": 2,
   "metadata": {},
   "outputs": [
    {
     "name": "stdout",
     "output_type": "stream",
     "text": [
      "[[30.581848]]\n"
     ]
    }
   ],
   "source": [
    "print(model.predict([10.0]))"
   ]
  },
  {
   "cell_type": "code",
   "execution_count": 4,
   "metadata": {},
   "outputs": [
    {
     "name": "stdout",
     "output_type": "stream",
     "text": [
      "1.14.0\n"
     ]
    }
   ],
   "source": [
    "print(tf.__version__)"
   ]
  },
  {
   "cell_type": "code",
   "execution_count": null,
   "metadata": {},
   "outputs": [],
   "source": []
  }
 ],
 "metadata": {
  "kernelspec": {
   "display_name": "Python 3",
   "language": "python",
   "name": "python3"
  },
  "language_info": {
   "codemirror_mode": {
    "name": "ipython",
    "version": 3
   },
   "file_extension": ".py",
   "mimetype": "text/x-python",
   "name": "python",
   "nbconvert_exporter": "python",
   "pygments_lexer": "ipython3",
   "version": "3.7.3"
  }
 },
 "nbformat": 4,
 "nbformat_minor": 2
}
